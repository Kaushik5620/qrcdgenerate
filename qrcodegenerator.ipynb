{
 "cells": [
  {
   "cell_type": "code",
   "execution_count": 2,
   "id": "54ad080a",
   "metadata": {},
   "outputs": [
    {
     "name": "stdout",
     "output_type": "stream",
     "text": [
      "Collecting qrcodeNote: you may need to restart the kernel to use updated packages.\n",
      "\n",
      "  Downloading qrcode-7.4.2-py3-none-any.whl (46 kB)\n",
      "                                              0.0/46.2 kB ? eta -:--:--\n",
      "     -----------------------------------      41.0/46.2 kB ? eta -:--:--\n",
      "     -------------------------------------- 46.2/46.2 kB 570.7 kB/s eta 0:00:00\n",
      "Collecting typing-extensions (from qrcode)\n",
      "  Downloading typing_extensions-4.5.0-py3-none-any.whl (27 kB)\n",
      "Collecting pypng (from qrcode)\n",
      "  Downloading pypng-0.20220715.0-py3-none-any.whl (58 kB)\n",
      "                                              0.0/58.1 kB ? eta -:--:--\n",
      "     -----------------------------------      51.2/58.1 kB ? eta -:--:--\n",
      "     -------------------------------------- 58.1/58.1 kB 771.2 kB/s eta 0:00:00\n",
      "Requirement already satisfied: colorama in c:\\users\\user\\appdata\\local\\programs\\python\\python311\\lib\\site-packages (from qrcode) (0.4.6)\n",
      "Installing collected packages: pypng, typing-extensions, qrcode\n"
     ]
    },
    {
     "name": "stderr",
     "output_type": "stream",
     "text": [
      "ERROR: Could not install packages due to an OSError: [WinError 32] The process cannot access the file because it is being used by another process: 'C:\\\\Users\\\\User\\\\AppData\\\\Local\\\\Programs\\\\Python\\\\Python311\\\\Scripts\\\\prichunkpng'\n",
      "Consider using the `--user` option or check the permissions.\n",
      "\n",
      "  WARNING: The script qr.exe is installed in 'C:\\Users\\User\\AppData\\Local\\Programs\\Python\\Python311\\Scripts' which is not on PATH.\n",
      "  Consider adding this directory to PATH or, if you prefer to suppress this warning, use --no-warn-script-location.\n"
     ]
    },
    {
     "name": "stdout",
     "output_type": "stream",
     "text": [
      "Collecting qrcode\n",
      "  Downloading qrcode-7.4.2-py3-none-any.whl (46 kB)\n",
      "                                              0.0/46.2 kB ? eta -:--:--\n",
      "     -----------------------------------      41.0/46.2 kB ? eta -:--:--\n",
      "     -------------------------------------- 46.2/46.2 kB 570.7 kB/s eta 0:00:00\n",
      "Collecting typing-extensions (from qrcode)\n",
      "  Downloading typing_extensions-4.5.0-py3-none-any.whl (27 kB)\n",
      "Collecting pypng (from qrcode)\n",
      "  Downloading pypng-0.20220715.0-py3-none-any.whl (58 kB)\n",
      "                                              0.0/58.1 kB ? eta -:--:--\n",
      "     -----------------------------------      51.2/58.1 kB ? eta -:--:--\n",
      "     -------------------------------------- 58.1/58.1 kB 613.0 kB/s eta 0:00:00\n",
      "Requirement already satisfied: colorama in c:\\users\\user\\appdata\\local\\programs\\python\\python311\\lib\\site-packages (from qrcode) (0.4.6)\n",
      "Installing collected packages: pypng, typing-extensions, qrcode\n",
      "Successfully installed pypng-0.20220715.0 qrcode-7.4.2 typing-extensions-4.5.0\n"
     ]
    }
   ],
   "source": [
    "pip install qrcode"
   ]
  },
  {
   "cell_type": "code",
   "execution_count": 1,
   "id": "cfb5d01e",
   "metadata": {},
   "outputs": [],
   "source": [
    "import qrcode as qr\n",
    "img=qr.make(\"https://chat.openai.com/\")\n",
    "img.save(\"chatgpt.png\")"
   ]
  },
  {
   "cell_type": "code",
   "execution_count": 1,
   "id": "cd50b629",
   "metadata": {},
   "outputs": [
    {
     "name": "stdout",
     "output_type": "stream",
     "text": [
      "Retrieved data from the QR code: https://chat.openai.com/\n"
     ]
    }
   ],
   "source": [
    "import cv2\n",
    "from pyzbar.pyzbar import decode\n",
    "image_path = \"chatgpt.png\"  # Path to the QR code image\n",
    "image = cv2.imread(image_path)\n",
    "qr_codes = decode(image)\n",
    "if qr_codes:\n",
    "    data = qr_codes[0].data.decode(\"utf-8\")\n",
    "    print(\"Retrieved data from the QR code:\", data)\n",
    "else:\n",
    "    print(\"No QR code found in the image.\")"
   ]
  },
  {
   "cell_type": "code",
   "execution_count": null,
   "id": "653f3bda",
   "metadata": {},
   "outputs": [],
   "source": [
    "import qrcode as qr\n",
    "\n",
    "# Get user input for the URL\n",
    "url = input(\"Enter the URL: \")\n",
    "\n",
    "# Get user input for the file name\n",
    "file_name = input(\"Enter the file name (without extension): \")\n",
    "\n",
    "# Generate the QR code\n",
    "img = qr.make(url)\n",
    "\n",
    "# Save the QR code as an image with the user-provided file name\n",
    "img.save(file_name + \".png\")\n"
   ]
  }
 ],
 "metadata": {
  "kernelspec": {
   "display_name": "Python 3 (ipykernel)",
   "language": "python",
   "name": "python3"
  },
  "language_info": {
   "codemirror_mode": {
    "name": "ipython",
    "version": 3
   },
   "file_extension": ".py",
   "mimetype": "text/x-python",
   "name": "python",
   "nbconvert_exporter": "python",
   "pygments_lexer": "ipython3",
   "version": "3.11.2"
  }
 },
 "nbformat": 4,
 "nbformat_minor": 5
}
